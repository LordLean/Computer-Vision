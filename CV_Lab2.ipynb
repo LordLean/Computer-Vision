{
  "nbformat": 4,
  "nbformat_minor": 0,
  "metadata": {
    "colab": {
      "name": " CV Lab Session 2.ipynb",
      "provenance": [],
      "collapsed_sections": [],
      "toc_visible": true,
      "include_colab_link": true
    },
    "kernelspec": {
      "name": "python3",
      "display_name": "Python 3"
    },
    "accelerator": "GPU"
  },
  "cells": [
    {
      "cell_type": "markdown",
      "metadata": {
        "id": "view-in-github",
        "colab_type": "text"
      },
      "source": [
        "<a href=\"https://colab.research.google.com/github/LordLean/Computer-Vision/blob/master/CV_Lab2.ipynb\" target=\"_parent\"><img src=\"https://colab.research.google.com/assets/colab-badge.svg\" alt=\"Open In Colab\"/></a>"
      ]
    },
    {
      "cell_type": "markdown",
      "metadata": {
        "id": "hpC031Z87Drr",
        "colab_type": "text"
      },
      "source": [
        "# Lab Overview\n",
        "This lab session will all be done by filling in the blanks in this Google Colab sheet.\n",
        "You'll need a google account to continue, but it's pretty straightforward to sign up if you don't have one already.\n",
        "\n",
        "The best thing to do would be to save a copy of this notebook in your personal google drive and edit it from there."
      ]
    },
    {
      "cell_type": "markdown",
      "metadata": {
        "id": "RPZmVckGR2TX",
        "colab_type": "text"
      },
      "source": [
        "# Getting Data\n",
        "**Getting an image from the web** (for uploading an image file, go to the section \"Uploading an image file\")"
      ]
    },
    {
      "cell_type": "code",
      "metadata": {
        "id": "NZrtQV8t89dZ",
        "colab_type": "code",
        "colab": {}
      },
      "source": [
        "!wget \"http://www.sussex.ac.uk/broadcast/images/uploads/2016/02/5848.item.jpg\" -O sussex.jpg\n",
        "!wget \"http://users.sussex.ac.uk/~is321/sad_snowman.jpg\" -O sad_snowman.jpg\n",
        "!wget \"http://users.sussex.ac.uk/~is321/bri_beach.jpg\" -O bri_beach.jpg\n"
      ],
      "execution_count": 0,
      "outputs": []
    },
    {
      "cell_type": "markdown",
      "metadata": {
        "id": "Vtj8LQokqWtX",
        "colab_type": "text"
      },
      "source": [
        "# Common Packages\n",
        "As we've seen before there are some common packages that we might want to load. We should also convert any images we load to RGB from BGR\n"
      ]
    },
    {
      "cell_type": "code",
      "metadata": {
        "id": "QcQAvS5N_Aoc",
        "colab_type": "code",
        "colab": {}
      },
      "source": [
        "%matplotlib inline\n",
        "from matplotlib import pyplot as plt\n",
        "import cv2\n",
        "import numpy as np\n",
        "\n",
        "img = cv2.imread('./sussex.jpg')\n",
        "img = cv2.cvtColor(img, cv2.COLOR_BGR2RGB)\n",
        "\n",
        "img_ss = cv2.imread('./sad_snowman.jpg')\n",
        "img_ss = cv2.cvtColor(img_ss, cv2.COLOR_BGR2RGB)\n",
        "\n",
        "img_bb = cv2.imread('./bri_beach.jpg')\n",
        "img_bb = cv2.cvtColor(img_bb, cv2.COLOR_BGR2RGB)\n",
        "\n",
        "\n",
        "\n"
      ],
      "execution_count": 0,
      "outputs": []
    },
    {
      "cell_type": "markdown",
      "metadata": {
        "id": "TwJuj16io10O",
        "colab_type": "text"
      },
      "source": [
        "# Uploading an image file\n",
        "Try uploading custom images as before"
      ]
    },
    {
      "cell_type": "code",
      "metadata": {
        "id": "ASK-Mzf4RZ7_",
        "colab_type": "code",
        "colab": {}
      },
      "source": [
        "import cv2\n",
        "from google.colab import files\n",
        "uploaded = files.upload()"
      ],
      "execution_count": 0,
      "outputs": []
    },
    {
      "cell_type": "code",
      "metadata": {
        "id": "SXyMV5lDRc2F",
        "colab_type": "code",
        "colab": {}
      },
      "source": [
        "# After executing the cell above, check the uploaded files names \n",
        "# and the folder path where your files were uploaded.\n",
        "import os\n",
        "!ls\n",
        "# Insert the correct image filename here and uncomment\n",
        "#full_path = \"/content/\" + image_fname\n",
        "# image = cv2.imread(full_path)"
      ],
      "execution_count": 0,
      "outputs": []
    },
    {
      "cell_type": "markdown",
      "metadata": {
        "id": "fr7_PC0ykJID",
        "colab_type": "text"
      },
      "source": [
        "# Image histograms\n",
        "Let's play around with image histograms a bit to see how they can be used\n",
        "1. Use matplotlib to plot the histogram of a grayscale image. Don't forget to flatten the spatial dimensions out!\n",
        "2. Experiment with changing the number of histogram bins. Look at the [documentation](https://matplotlib.org/3.1.1/api/_as_gen/matplotlib.pyplot.hist.html)\n",
        "3. What can we do to make histograms of RGB images? Read the [histogram documentation](https://matplotlib.org/3.1.1/api/_as_gen/matplotlib.pyplot.hist.html) for some ideas. Hint, we want the data passed to plt.hist to have shape [num_of_pixels, 3] so look at using numpy.reshape.\n",
        "4. Load in 2 images of different scenes (e.g. beach and snowman) do the histogram looks very different? use matplotlibs suplot functionality to put the images and histograms on the same figure\n",
        "5. Try doing histogram equalisation (using [opencv2](https://docs.opencv.org/master/d5/daf/tutorial_py_histogram_equalization.html)) on the gray image"
      ]
    },
    {
      "cell_type": "code",
      "metadata": {
        "id": "XmI0iUVGkNiD",
        "colab_type": "code",
        "colab": {}
      },
      "source": [
        "img_gray = np.mean(img, axis=2)\n"
      ],
      "execution_count": 0,
      "outputs": []
    },
    {
      "cell_type": "markdown",
      "metadata": {
        "colab_type": "text",
        "id": "p6QH1LoHkqeG"
      },
      "source": [
        "# 1D Convolutions\n",
        "Let's start with 1D convolutions, and ignoring the ends of the array.\n",
        "1. Write your own convolution function to apply the filter [-1, 0, 1] to the array x. What does this do? Alternatively, use [scipy.signal.convolve](https://docs.scipy.org/doc/scipy/reference/generated/scipy.signal.convolve.html) making sure you check the 'mode' arguments. Plot the response of this function.\n",
        "2. Plot the original signal on the same plot as your convolved output. You can make multiple calls to plt.plot which draw the results on the same axis. Note that your output may be shorter as we ignored the ends of the array. Note, using plt.plot or plt.scatter where x is the array position.\n",
        "3. Next try applying the filter [0.1, 0.8, 0.1] to the array. What does this do? How can you increase the strength of the effect?\n"
      ]
    },
    {
      "cell_type": "code",
      "metadata": {
        "id": "O-Em-Ojjm7T7",
        "colab_type": "code",
        "colab": {}
      },
      "source": [
        "# Take a row of the image to use as daya\n",
        "y = img_gray[200, :]\n",
        "# If we use range it counts from 0 to the length of y, and we can see our 1D signal\n",
        "plt.plot(range(len(y)), y)\n",
        "plt.show()\n"
      ],
      "execution_count": 0,
      "outputs": []
    },
    {
      "cell_type": "markdown",
      "metadata": {
        "id": "7mORpoIhiqJz",
        "colab_type": "text"
      },
      "source": [
        "# Extensions\n",
        "You don't have to do these, but if you complete the lab and want to learn more then give these a go! You also don't need to do them in any particular order.\n",
        "\n",
        "+ Extend your convolution code to use zero-padding or reflection padding and arbitrary length convolutional kernels.\n",
        "\n",
        "+ Extend your own convolution code to 2D\n",
        "\n",
        "+ How might we measure the distance between histograms? Construct a distance measure and test it on the pair of images you loaded earlier. Working with a normalised histogram might help!\n",
        "\n",
        "+ Test histogram equalisation on the color image, treating each color separately? Does it look a bit weird? Why? You should be able to improve matters by using the LAB colour space.\n",
        "\n",
        "+ Upload 2 images containing either similar/different content, e.g. beach scenes, snowmen. Choose 1 image to modify and design a method to make the histogram of image 1 match image 2. This is a method of doing colour balancing with a known target color distribution.\n",
        "\n"
      ]
    },
    {
      "cell_type": "code",
      "metadata": {
        "id": "6g8jgwPtiw5b",
        "colab_type": "code",
        "colab": {}
      },
      "source": [
        "\n",
        "\n"
      ],
      "execution_count": 0,
      "outputs": []
    }
  ]
}